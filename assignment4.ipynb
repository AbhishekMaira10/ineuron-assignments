{
 "nbformat": 4,
 "nbformat_minor": 2,
 "metadata": {
  "language_info": {
   "name": "python",
   "codemirror_mode": {
    "name": "ipython",
    "version": 3
   },
   "version": "3.7.6-final"
  },
  "orig_nbformat": 2,
  "file_extension": ".py",
  "mimetype": "text/x-python",
  "name": "python",
  "npconvert_exporter": "python",
  "pygments_lexer": "ipython3",
  "version": 3,
  "kernelspec": {
   "name": "python37664bitb1aed91ab4074ca3b32205f7fafddbf4",
   "display_name": "Python 3.7.6 64-bit"
  }
 },
 "cells": [
  {
   "cell_type": "markdown",
   "metadata": {},
   "source": [
    "Q1.1 Write a Python Program(with class concepts) to find the area of the triangle using the below formula. area = (s(s-a)(s-b)*(s-c)) ** 0.5 Function to take the length of the sides of triangle from user should be defined in the parent class and function to calculate the area should be defined in subclass."
   ]
  },
  {
   "cell_type": "code",
   "execution_count": 1,
   "metadata": {},
   "outputs": [
    {
     "output_type": "stream",
     "name": "stdout",
     "text": "the area of the triangle is: 2.9047375096555625\n"
    }
   ],
   "source": [
    "class Triangle:\n",
    "    def __init__(self, a, b, c):\n",
    "        self.a = a\n",
    "        self.b = b\n",
    "        self.c = c\n",
    "\n",
    "class Area(Triangle):\n",
    "    def __init__(self, a, b, c):\n",
    "        super().__init__ (a, b, c)\n",
    "    \n",
    "    def area(self):\n",
    "        s = (self.a + self.b + self.c)/2\n",
    "        area = (s*(s - self.a)*(s - self.b)*(s - self.c))**0.5\n",
    "        return area\n",
    "\n",
    "a = int(input(\"Enter the length of side A: \"))\n",
    "b = int(input(\"Enter the length of side B: \"))\n",
    "c = int(input(\"Enter the length of side C: \"))\n",
    "\n",
    "ar = Area(a, b, c)\n",
    "ar_area = ar.area()\n",
    "\n",
    "print(f\"the area of the triangle is: {ar_area}\")"
   ]
  },
  {
   "cell_type": "markdown",
   "metadata": {},
   "source": []
  },
  {
   "cell_type": "markdown",
   "metadata": {},
   "source": [
    "Q1.2 Write a function filter_long_words() that takes a list of words and an integer n and returns the list of words that are longer than n."
   ]
  },
  {
   "cell_type": "code",
   "execution_count": 2,
   "metadata": {},
   "outputs": [
    {
     "output_type": "stream",
     "name": "stdout",
     "text": "['hello', 'world', 'Abhishek']\n"
    }
   ],
   "source": [
    "def filter_long_words(words, n):\n",
    "    result = [ word for word in words if len(word) > n ]\n",
    "    return result\n",
    "\n",
    "words = [\"hello\", \"world\", \"its\", \"Abhishek\"]\n",
    "print(filter_long_words(words, 3))"
   ]
  },
  {
   "cell_type": "markdown",
   "metadata": {},
   "source": []
  },
  {
   "cell_type": "markdown",
   "metadata": {},
   "source": [
    "Q2.1 Write a Python program using function concept that maps list of words into a list of integers representing the lengths of the corresponding words."
   ]
  },
  {
   "cell_type": "code",
   "execution_count": 3,
   "metadata": {},
   "outputs": [
    {
     "output_type": "stream",
     "name": "stdout",
     "text": "{'abhishek': 8, 'aditya': 6, 'abhinav': 7, 'adarsh': 6}\n"
    }
   ],
   "source": [
    "def map_word_to_length(words):\n",
    "    word_length = {str(i): len(i) for i in words}\n",
    "    return word_length\n",
    "\n",
    "\n",
    "words = ['abhishek', 'aditya', 'abhinav', 'adarsh']\n",
    "print(map_word_to_length(words))"
   ]
  },
  {
   "cell_type": "markdown",
   "metadata": {},
   "source": []
  },
  {
   "cell_type": "markdown",
   "metadata": {},
   "source": [
    "Q2.2 Write a Python function which takes a character (i.e. a string of length 1) and returns True if it is a vowel, False otherwise."
   ]
  },
  {
   "cell_type": "code",
   "execution_count": 4,
   "metadata": {},
   "outputs": [
    {
     "output_type": "stream",
     "name": "stdout",
     "text": "False\n"
    }
   ],
   "source": [
    "def filtered_vowel(alphabet):\n",
    "    vowels = ['a', 'e', 'i', 'o', 'u']\n",
    "    return True if alphabet.lower() in vowels else False\n",
    "\n",
    "print(filtered_vowel('c'))"
   ]
  }
 ]
}